{
  "nbformat": 4,
  "nbformat_minor": 0,
  "metadata": {
    "colab": {
      "provenance": [],
      "authorship_tag": "ABX9TyO7qtbov/rFwNUBd8J2JQDH",
      "include_colab_link": true
    },
    "kernelspec": {
      "name": "python3",
      "display_name": "Python 3"
    },
    "language_info": {
      "name": "python"
    }
  },
  "cells": [
    {
      "cell_type": "markdown",
      "metadata": {
        "id": "view-in-github",
        "colab_type": "text"
      },
      "source": [
        "<a href=\"https://colab.research.google.com/github/2403a51180-ctrl/assignment1.2/blob/main/lab2_4.ipynb\" target=\"_parent\"><img src=\"https://colab.research.google.com/assets/colab-badge.svg\" alt=\"Open In Colab\"/></a>"
      ]
    },
    {
      "cell_type": "markdown",
      "source": [
        "Task0: write python funtion to verify the number is odd or even\n",
        "\n",
        "Prompt: Generate python function to check odd or even number"
      ],
      "metadata": {
        "id": "RZB5WiIROov_"
      }
    },
    {
      "cell_type": "code",
      "source": [
        "def is_odd_or_even(number):\n",
        "  \"\"\"\n",
        "  Checks if a number is odd or even.\n",
        "\n",
        "  Args:\n",
        "    number: The number to check.\n",
        "\n",
        "  Returns:\n",
        "    A string indicating whether the number is \"Odd\" or \"Even\".\n",
        "  \"\"\"\n",
        "  if number % 2 == 0:\n",
        "    return \"Even\"\n",
        "  else:\n",
        "    return \"Odd\"\n",
        "\n",
        "# Example usage:\n",
        "print(is_odd_or_even(4))\n",
        "print(is_odd_or_even(7))"
      ],
      "metadata": {
        "colab": {
          "base_uri": "https://localhost:8080/"
        },
        "id": "tsVIJRrcPz2r",
        "outputId": "4cc9b58b-cf29-4630-bd03-dfb7dd7bbc4e"
      },
      "execution_count": 3,
      "outputs": [
        {
          "output_type": "stream",
          "name": "stdout",
          "text": [
            "Even\n",
            "Odd\n"
          ]
        }
      ]
    },
    {
      "cell_type": "markdown",
      "source": [
        "task1:write a python code that sort lists by using bubble sort algorithm\n"
      ],
      "metadata": {
        "id": "RoJUq1bjSUuY"
      }
    },
    {
      "cell_type": "markdown",
      "source": [
        "prompt:generate a python code to sort the list with the bubble sort algorithm"
      ],
      "metadata": {
        "id": "btfn9K_oUTe2"
      }
    },
    {
      "cell_type": "code",
      "metadata": {
        "colab": {
          "base_uri": "https://localhost:8080/"
        },
        "id": "2f3c5c45",
        "outputId": "0c712fbc-3289-4316-c911-6a3be2e2235c"
      },
      "source": [
        "def bubble_sort(list_):\n",
        "  \"\"\"\n",
        "  Sorts a list using the bubble sort algorithm.\n",
        "\n",
        "  Args:\n",
        "    list_: The list to sort.\n",
        "\n",
        "  Returns:\n",
        "    The sorted list.\n",
        "  \"\"\"\n",
        "  n = len(list_)\n",
        "  for i in range(n):\n",
        "    # Last i elements are already in place\n",
        "    for j in range(0, n - i - 1):\n",
        "      # Traverse the list from 0 to n-i-1\n",
        "      # Swap if the element found is greater than the next element\n",
        "      if list_[j] > list_[j + 1]:\n",
        "        list_[j], list_[j + 1] = list_[j + 1], list_[j]\n",
        "  return list_\n",
        "\n",
        "# Example usage:\n",
        "my_list = [64, 34, 25, 12, 22, 11, 90]\n",
        "sorted_list = bubble_sort(my_list)\n",
        "print(\"Sorted list:\", sorted_list)"
      ],
      "execution_count": 4,
      "outputs": [
        {
          "output_type": "stream",
          "name": "stdout",
          "text": [
            "Sorted list: [11, 12, 22, 25, 34, 64, 90]\n"
          ]
        }
      ]
    },
    {
      "cell_type": "markdown",
      "source": [
        "  n = len(list_)\n",
        "  for i in range(n):\n",
        "    for j in range(0, n - i - 1):\n",
        "      if list_[j] > list_[j + 1]:\n",
        "        list_[j], list_[j + 1] = list_[j + 1], list_[j]\n",
        "  return list_\n",
        "\n",
        "\n",
        " 1) n = len(list_): This line gets the length of the input list and stores it in the variable n.\n",
        "2)for i in range(n):: This is the outer loop. It iterates n times. In each iteration, the largest unsorted element \"bubbles up\" to its correct position at the end of the unsorted portion of the list.\n",
        "3)for j in range(0, n - i - 1):: This is the inner loop. It iterates through the unsorted portion of the list. The range decreases in each outer loop iteration because the last i elements are already sorted.\n",
        "4)if list_[j] > list_[j + 1]:: This line compares adjacent elements in the list.\n",
        "5)list_[j], list_[j + 1] = list_[j + 1], list_[j]: If the element at index j is greater than the element at index j + 1, these two elements are swapped. This is how the larger elements \"bubble up\".\n",
        "6)return list_: After the loops complete, the function returns the sorted list.\n",
        "\n",
        "\n"
      ],
      "metadata": {
        "id": "gbylrHWaVlAt"
      }
    }
  ]
}