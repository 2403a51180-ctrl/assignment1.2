{
  "nbformat": 4,
  "nbformat_minor": 0,
  "metadata": {
    "colab": {
      "provenance": [],
      "authorship_tag": "ABX9TyPGoBx/mHuc9ojZ45pIi9ez",
      "include_colab_link": true
    },
    "kernelspec": {
      "name": "python3",
      "display_name": "Python 3"
    },
    "language_info": {
      "name": "python"
    }
  },
  "cells": [
    {
      "cell_type": "markdown",
      "metadata": {
        "id": "view-in-github",
        "colab_type": "text"
      },
      "source": [
        "<a href=\"https://colab.research.google.com/github/2403a51180-ctrl/assignment1.2/blob/main/Untitled1.ipynb\" target=\"_parent\"><img src=\"https://colab.research.google.com/assets/colab-badge.svg\" alt=\"Open In Colab\"/></a>"
      ]
    },
    {
      "cell_type": "code",
      "execution_count": 3,
      "metadata": {
        "colab": {
          "base_uri": "https://localhost:8080/"
        },
        "id": "jedum5SiciPh",
        "outputId": "dbe1a45b-00a9-4d6d-bb91-3c85a2488268"
      },
      "outputs": [
        {
          "output_type": "stream",
          "name": "stdout",
          "text": [
            "Name: aisha\n",
            "Roll Number: 101\n",
            "Marks: 85\n",
            "Pass\n",
            "Name: ravi\n",
            "Roll Number: 102\n",
            "Marks: 35\n",
            "Fail\n",
            "Pass\n",
            "None\n",
            "Fail\n",
            "None\n"
          ]
        }
      ],
      "source": [
        "class student:\n",
        "  def __init__(self,name,roll_number,marks):\n",
        "    self.name=name\n",
        "    self.roll_number=roll_number\n",
        "    self.marks=marks\n",
        "#method to display student details\n",
        "  def display_details(self):\n",
        "    print(\"Name:\",self.name)\n",
        "    print(\"Roll Number:\",self.roll_number)\n",
        "    print(\"Marks:\",self.marks)\n",
        "# method to check if student passed(marks>=40)\n",
        "  def check_pass_fail(self):\n",
        "    if self.marks>=40:\n",
        "      print(\"Pass\")\n",
        "    else:\n",
        "      print(\"Fail\")\n",
        "s1= student(\"aisha\",101,85)\n",
        "s2= student(\"ravi\",102,35)\n",
        "s1.display_details()\n",
        "s1.check_pass_fail()\n",
        "s2.display_details()\n",
        "s2.check_pass_fail()\n",
        "print(s1.check_pass_fail())\n",
        "print(s2.check_pass_fail())"
      ]
    },
    {
      "cell_type": "code",
      "source": [
        "# identify ,a number even or odd and find square of an even numbers\n",
        "num = [1,3,5,2,6,12,8,9,11,]\n",
        "print(\">Even numbers\")\n",
        "for i in num:\n",
        "  if i%2==0:\n",
        "    print(i)\n",
        "print(\"Odd numbers\")\n",
        "for i in num:\n",
        "  if i%2!=0:\n",
        "    print(i)\n",
        "print(\"Square of even numbers\")\n",
        "for i in num:\n",
        "  if i%2==0:\n",
        "    print(i**2)"
      ],
      "metadata": {
        "colab": {
          "base_uri": "https://localhost:8080/"
        },
        "id": "_G25DCobdPuI",
        "outputId": "67ac0a65-6c90-4794-9351-d562e6bfcfc7"
      },
      "execution_count": 4,
      "outputs": [
        {
          "output_type": "stream",
          "name": "stdout",
          "text": [
            ">Even numbers\n",
            "2\n",
            "6\n",
            "12\n",
            "8\n",
            "Odd numbers\n",
            "1\n",
            "3\n",
            "5\n",
            "9\n",
            "11\n",
            "Square of even numbers\n",
            "4\n",
            "36\n",
            "144\n",
            "64\n"
          ]
        }
      ]
    },
    {
      "cell_type": "code",
      "source": [
        "class BankAccount:\n",
        "    def __init__(self, account_holder, balance=0.0):\n",
        "        self.account_holder = account_holder\n",
        "        self.balance = balance\n",
        "    def deposit(self, amount):\n",
        "        if amount > 0:\n",
        "            self.balance += amount\n",
        "            print(f\"Deposited {amount}. New balance: {self.balance}\")\n",
        "        else:\n",
        "            print(\"Deposit amount must be positive.\")\n",
        "    def withdraw(self, amount):\n",
        "        if amount <= 0:\n",
        "            print(\"Withdrawal amount must be positive.\")\n",
        "        elif amount > self.balance:\n",
        "            print(\"Insufficient balance!\")\n",
        "        else:\n",
        "            self.balance -= amount\n",
        "            print(f\"Withdrew {amount}. New balance: {self.balance}\")\n",
        "    def get_balance(self):\n",
        "        return self.balance\n",
        "account = BankAccount(\"Alice\", 500)\n",
        "\n",
        "account.deposit(200)\n",
        "account.withdraw(100)\n",
        "account.withdraw(700)\n",
        "print(\"Final Balance:\", account.get_balance())\n"
      ],
      "metadata": {
        "colab": {
          "base_uri": "https://localhost:8080/"
        },
        "id": "RKbZkxs2ecIj",
        "outputId": "d6aa0b48-0d70-47f4-af7e-d2960d594e70"
      },
      "execution_count": 8,
      "outputs": [
        {
          "output_type": "stream",
          "name": "stdout",
          "text": [
            "Deposited 200. New balance: 700\n",
            "Withdrew 100. New balance: 600\n",
            "Insufficient balance!\n",
            "Final Balance: 600\n"
          ]
        }
      ]
    },
    {
      "cell_type": "code",
      "source": [
        "# List of student dictionaries\n",
        "students = [\n",
        "    {\"name\": \"vardhan\", \"score\": 85},\n",
        "    {\"name\": \"naveen\", \"score\": 65},\n",
        "    {\"name\": \"sunny\", \"score\": 90},\n",
        "    {\"name\": \"chandu\", \"score\": 72},\n",
        "    {\"name\": \"niklesh\", \"score\": 95}\n",
        "]\n",
        "\n",
        "# While loop to print names of students with score > 75\n",
        "i = 0\n",
        "while i < len(students):\n",
        "    if students[i][\"score\"] > 75:\n",
        "        print(students[i][\"name\"])\n",
        "    i += 1\n"
      ],
      "metadata": {
        "colab": {
          "base_uri": "https://localhost:8080/"
        },
        "id": "nJzLtYoCfphk",
        "outputId": "5e0c36f3-870a-4edc-86fc-11cb6e3ad5d8"
      },
      "execution_count": 10,
      "outputs": [
        {
          "output_type": "stream",
          "name": "stdout",
          "text": [
            "vardhan\n",
            "sunny\n",
            "niklesh\n"
          ]
        }
      ]
    },
    {
      "cell_type": "code",
      "source": [
        "class ShoppingCart:\n",
        "    def __init__(self):\n",
        "        # Start with an empty cart\n",
        "        self.items = []\n",
        "\n",
        "    # Method to add an item (name + price)\n",
        "    def add_item(self, name, price):\n",
        "        self.items.append({\"name\": name, \"price\": price})\n",
        "        print(f\"Added {name} for {price}\")\n",
        "\n",
        "    # Method to remove an item by name\n",
        "    def remove_item(self, name):\n",
        "        for item in self.items:\n",
        "            if item[\"name\"] == name:\n",
        "                self.items.remove(item)\n",
        "                print(f\"Removed {name}\")\n",
        "                return\n",
        "        print(f\"{name} not found in cart\")\n",
        "\n",
        "    # Method to calculate total with conditional discounts\n",
        "    def calculate_total(self):\n",
        "        total = 0\n",
        "        for item in self.items:\n",
        "            total += item[\"price\"]\n",
        "\n",
        "        # Apply discounts based on total\n",
        "        if total > 500:\n",
        "            discount = total * 0.20   # 20% discount\n",
        "            total -= discount\n",
        "            print(f\"Applied 20% discount of {discount}\")\n",
        "        elif total > 200:\n",
        "            discount = total * 0.10   # 10% discount\n",
        "            total -= discount\n",
        "            print(f\"Applied 10% discount of {discount}\")\n",
        "\n",
        "        return total\n",
        "\n",
        "\n",
        "# Example usage\n",
        "cart = ShoppingCart()\n",
        "cart.add_item(\"Shoes\", 250)\n",
        "cart.add_item(\"Bag\", 300)\n",
        "cart.add_item(\"Watch\", 150)\n",
        "\n",
        "print(\"Cart Total:\", cart.calculate_total())\n",
        "\n",
        "cart.remove_item(\"Bag\")\n",
        "print(\"Cart Total after removal:\", cart.calculate_total())\n"
      ],
      "metadata": {
        "colab": {
          "base_uri": "https://localhost:8080/"
        },
        "id": "n2Tes_Hegh1E",
        "outputId": "aa35cf35-122f-4460-b221-1db0eb926d82"
      },
      "execution_count": 11,
      "outputs": [
        {
          "output_type": "stream",
          "name": "stdout",
          "text": [
            "Added Shoes for 250\n",
            "Added Bag for 300\n",
            "Added Watch for 150\n",
            "Applied 20% discount of 140.0\n",
            "Cart Total: 560.0\n",
            "Removed Bag\n",
            "Applied 10% discount of 40.0\n",
            "Cart Total after removal: 360.0\n"
          ]
        }
      ]
    }
  ]
}